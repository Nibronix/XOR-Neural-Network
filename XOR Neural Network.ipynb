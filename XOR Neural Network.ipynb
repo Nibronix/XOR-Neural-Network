{
 "cells": [
  {
   "cell_type": "code",
   "execution_count": 2,
   "id": "1f225b5c-32f1-4098-aba3-f3815f665b08",
   "metadata": {
    "tags": []
   },
   "outputs": [
    {
     "name": "stdout",
     "output_type": "stream",
     "text": [
      "Inputs: \n",
      " [[0 1]\n",
      " [0 0]\n",
      " [1 1]\n",
      " [1 0]]\n",
      "Weights 1: \n",
      " [[-5.84092747 -4.8260378 ]\n",
      " [-5.83538995 -4.8244341 ]] \n",
      "Weights 2: \n",
      " [[-9.59224367]\n",
      " [ 9.21275592]]\n",
      "Bias 1: \n",
      " [[2.33453766 7.19103264]] \n",
      "Bias 2: \n",
      " [[-4.32683969]]\n",
      "Output: \n",
      " [[0.97843568]\n",
      " [0.02050794]\n",
      " [0.02654147]\n",
      " [0.978443  ]]\n"
     ]
    }
   ],
   "source": [
    "import numpy as np\n",
    "\n",
    "#Input\n",
    "x = np.array([[0,1],[0,0],[1,1],[1,0]])\n",
    "\n",
    "#Output\n",
    "y = np.array([[1],[0],[0],[1]])\n",
    "\n",
    "#Weights\n",
    "w1 = np.random.randn(2,2)\n",
    "w2 = np.random.randn(2,1)\n",
    "\n",
    "#Biases\n",
    "b1 = np.random.randn(1,2)\n",
    "b2 = np.random.randn(1,1)\n",
    "\n",
    "\n",
    "# Learning rate\n",
    "lr = 0.1\n",
    "\n",
    "# Iterations\n",
    "loops = 30000\n",
    "\n",
    "#Sigmoid Function\n",
    "def sigmoid (x): \n",
    "    return 1/(1 + np.exp(-x))\n",
    "\n",
    "#Sigmoid Derivative\n",
    "def s_deriv(x):\n",
    "    return x * (1 - x)\n",
    "\n",
    "#Training\n",
    "for i in range(loops):\n",
    "    \n",
    "    #Forward Propagation\n",
    "    layer1 = x\n",
    "    z1 = np.dot(layer1, w1) + b1\n",
    "    \n",
    "    layer2 = sigmoid(z1)\n",
    "    z2 = np.dot(layer2, w2) + b2\n",
    "    output = sigmoid(z2)\n",
    "    \n",
    "    #Back Propagation\n",
    "    error = y - output\n",
    "    d_output = error * s_deriv(output)\n",
    "    d_hidden_layer = np.dot(d_output, w2.T) * s_deriv(layer2)\n",
    "    \n",
    "    w2 += lr * np.dot(layer2.T, d_output)\n",
    "    b2 += lr * d_output.sum(axis=0)\n",
    "\n",
    "    w1 += lr * np.dot(layer1.T, d_hidden_layer)\n",
    "    b1 += lr * d_hidden_layer.sum(axis=0)\n",
    "    \n",
    "    \n",
    "\n",
    "    \n",
    "print(\"Inputs: \\n\", x)\n",
    "print(\"Weights 1: \\n\", w1, \"\\nWeights 2: \\n\", w2)\n",
    "print(\"Bias 1: \\n\", b1, \"\\nBias 2: \\n\", b2)\n",
    "print(\"Output: \\n\", output)"
   ]
  },
  {
   "cell_type": "code",
   "execution_count": null,
   "id": "69b67a62-0bb2-4ca7-8735-b517815bc9d4",
   "metadata": {},
   "outputs": [],
   "source": []
  }
 ],
 "metadata": {
  "kernelspec": {
   "display_name": "Python 3 (ipykernel)",
   "language": "python",
   "name": "python3"
  },
  "language_info": {
   "codemirror_mode": {
    "name": "ipython",
    "version": 3
   },
   "file_extension": ".py",
   "mimetype": "text/x-python",
   "name": "python",
   "nbconvert_exporter": "python",
   "pygments_lexer": "ipython3",
   "version": "3.11.1"
  }
 },
 "nbformat": 4,
 "nbformat_minor": 5
}
